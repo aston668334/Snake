{
 "cells": [
  {
   "cell_type": "code",
   "execution_count": 1,
   "id": "a7ac10c9-839d-4b72-8001-26a5d4196f57",
   "metadata": {},
   "outputs": [],
   "source": [
    "import os\n",
    "#ml\n",
    "import image_predict\n",
    "\n",
    "from PIL import Image"
   ]
  },
  {
   "cell_type": "code",
   "execution_count": 5,
   "id": "504fe4a1-0d30-403f-894a-61b0f87e2849",
   "metadata": {},
   "outputs": [],
   "source": [
    "os.chdir('/work/data/Line_bot/final/server/')"
   ]
  },
  {
   "cell_type": "code",
   "execution_count": 6,
   "id": "85f70b67-cabc-4000-baac-17b78bce99c9",
   "metadata": {},
   "outputs": [],
   "source": [
    "Path = './test.jpg'\n",
    "# print(Path)\n",
    "img = Image.open(Path).convert(\"RGB\")"
   ]
  },
  {
   "cell_type": "code",
   "execution_count": 7,
   "id": "ae4d7d56-84a0-4170-8269-9c0cbf202d92",
   "metadata": {},
   "outputs": [
    {
     "name": "stdout",
     "output_type": "stream",
     "text": [
      "Training MobileNet V2 model - 2021-07-02 16:23:26\n"
     ]
    },
    {
     "data": {
      "text/plain": [
       "'storeria-dekayi'"
      ]
     },
     "execution_count": 7,
     "metadata": {},
     "output_type": "execute_result"
    }
   ],
   "source": [
    "image_predict.image_predict(img)"
   ]
  },
  {
   "cell_type": "code",
   "execution_count": null,
   "id": "cc8e6364-5761-441f-baaa-ae51a3c2948f",
   "metadata": {},
   "outputs": [],
   "source": []
  },
  {
   "cell_type": "code",
   "execution_count": 8,
   "id": "a9577a82-d468-490a-911d-4eb164051adc",
   "metadata": {},
   "outputs": [
    {
     "name": "stdout",
     "output_type": "stream",
     "text": [
      "/work/data/Line_bot/final/server\n"
     ]
    }
   ],
   "source": [
    "!pwd"
   ]
  },
  {
   "cell_type": "code",
   "execution_count": null,
   "id": "4bb3ddde-cb42-42a2-b681-5f607189cec1",
   "metadata": {},
   "outputs": [],
   "source": []
  }
 ],
 "metadata": {
  "kernelspec": {
   "display_name": "Python [conda env:line_bot]",
   "language": "python",
   "name": "conda-env-line_bot-py"
  },
  "language_info": {
   "codemirror_mode": {
    "name": "ipython",
    "version": 3
   },
   "file_extension": ".py",
   "mimetype": "text/x-python",
   "name": "python",
   "nbconvert_exporter": "python",
   "pygments_lexer": "ipython3",
   "version": "3.8.10"
  }
 },
 "nbformat": 4,
 "nbformat_minor": 5
}
