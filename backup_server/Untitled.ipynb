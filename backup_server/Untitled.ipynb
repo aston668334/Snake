{
 "cells": [
  {
   "cell_type": "code",
   "execution_count": 50,
   "id": "5b6ddcad-c7a1-4ea4-9552-012bddf360c6",
   "metadata": {},
   "outputs": [],
   "source": [
    "import myfun \n",
    "import pandas as pd\n",
    "from haversine import haversine_vector, Unit ,haversine"
   ]
  },
  {
   "cell_type": "code",
   "execution_count": 51,
   "id": "ea295f33-0fb2-42cc-ae07-bd3259eaf226",
   "metadata": {},
   "outputs": [],
   "source": [
    "target= (22.99879225788908, 120.63345965924253)\n",
    "serum_type = '雨傘節'"
   ]
  },
  {
   "cell_type": "code",
   "execution_count": 52,
   "id": "760ac73d-b537-4f40-a747-21e2b8793c23",
   "metadata": {},
   "outputs": [],
   "source": [
    "data = pd.read_csv('./serum_done.csv')\n",
    "\n",
    "select_data = data[data[serum_type] == 1]\n",
    "\n",
    "data_list = list(select_data['經緯度'])\n",
    "coordinate_list =[]\n",
    "target_list = []\n",
    "for i in data_list:\n",
    "    latitude = float(i.split(',')[0])\n",
    "    longitude = float(i.split(',')[1])\n",
    "    temp = (latitude , longitude)\n",
    "    coordinate_list.append(temp)\n",
    "    target_list.append(target)\n",
    "\n",
    "distance_list = list(haversine_vector(target_list, coordinate_list, Unit.KILOMETERS))\n",
    "\n",
    "shortest_distance = min(distance_list)\n",
    "shortest_index = distance_list.index(shortest_distance)\n",
    "out  = select_data.iloc[shortest_index ]\n",
    "\n"
   ]
  },
  {
   "cell_type": "code",
   "execution_count": 53,
   "id": "10cc05b6-41ed-4849-8e0e-54c4dc2a89b9",
   "metadata": {},
   "outputs": [
    {
     "data": {
      "text/plain": [
       "單位名稱                                高雄市六龜區衛生所\n",
       "連絡電話                               07-6892844\n",
       "區域別                                       高屏區\n",
       "縣市                                        高雄市\n",
       "經緯度     22.99879225788908, 120.63345965924253\n",
       "百步蛇                                       1.0\n",
       "雨傘節                                       1.0\n",
       "飯匙倩蛇                                      1.0\n",
       "龜殼花                                       1.0\n",
       "赤尾鮐蛇                                      1.0\n",
       "鎖鏈蛇                                       0.0\n",
       "Name: 100, dtype: object"
      ]
     },
     "execution_count": 53,
     "metadata": {},
     "output_type": "execute_result"
    }
   ],
   "source": [
    "out"
   ]
  },
  {
   "cell_type": "code",
   "execution_count": null,
   "id": "98c7b474-8f0f-4a60-bfb3-80f19d9627a3",
   "metadata": {},
   "outputs": [],
   "source": []
  },
  {
   "cell_type": "code",
   "execution_count": null,
   "id": "d1a32ae8-98b7-497c-acbb-c6aa4f08505f",
   "metadata": {},
   "outputs": [],
   "source": []
  },
  {
   "cell_type": "code",
   "execution_count": 7,
   "id": "603b4868-ca4c-4519-aa6c-4178a02766c8",
   "metadata": {},
   "outputs": [],
   "source": [
    "a = myfun.host_distace(text,ty)"
   ]
  },
  {
   "cell_type": "code",
   "execution_count": 8,
   "id": "7db2eeb1-d366-454b-8825-f6921d4b339f",
   "metadata": {},
   "outputs": [
    {
     "data": {
      "text/plain": [
       "單位名稱                                高雄市六龜區衛生所\n",
       "連絡電話                               07-6892844\n",
       "區域別                                       高屏區\n",
       "縣市                                        高雄市\n",
       "經緯度     22.99879225788908, 120.63345965924253\n",
       "百步蛇                                       1.0\n",
       "雨傘節                                       1.0\n",
       "飯匙倩蛇                                      1.0\n",
       "龜殼花                                       1.0\n",
       "赤尾鮐蛇                                      1.0\n",
       "鎖鏈蛇                                       0.0\n",
       "Name: 229, dtype: object"
      ]
     },
     "execution_count": 8,
     "metadata": {},
     "output_type": "execute_result"
    }
   ],
   "source": [
    "a"
   ]
  },
  {
   "cell_type": "code",
   "execution_count": 38,
   "id": "d64a0e66-de62-47dc-a988-e4fa757e4ddf",
   "metadata": {},
   "outputs": [],
   "source": [
    "import pandas as pd"
   ]
  },
  {
   "cell_type": "code",
   "execution_count": 42,
   "id": "ca2c484b-64c8-460a-8a33-3875870b3199",
   "metadata": {},
   "outputs": [],
   "source": [
    "data = pd.DataFrame([] , columns = ['userid','location'])"
   ]
  },
  {
   "cell_type": "code",
   "execution_count": 43,
   "id": "239ace3b-61fe-4d37-903f-e1094adc03d8",
   "metadata": {},
   "outputs": [],
   "source": [
    "data.to_csv('./user_location.csv',index = False)"
   ]
  },
  {
   "cell_type": "code",
   "execution_count": null,
   "id": "ac80ac61-f5ec-4de3-b185-6970d22fb035",
   "metadata": {},
   "outputs": [],
   "source": []
  },
  {
   "cell_type": "code",
   "execution_count": 44,
   "id": "e8671de9-878d-446d-94dc-d9b8a68819fe",
   "metadata": {},
   "outputs": [
    {
     "data": {
      "text/html": [
       "<div>\n",
       "<style scoped>\n",
       "    .dataframe tbody tr th:only-of-type {\n",
       "        vertical-align: middle;\n",
       "    }\n",
       "\n",
       "    .dataframe tbody tr th {\n",
       "        vertical-align: top;\n",
       "    }\n",
       "\n",
       "    .dataframe thead th {\n",
       "        text-align: right;\n",
       "    }\n",
       "</style>\n",
       "<table border=\"1\" class=\"dataframe\">\n",
       "  <thead>\n",
       "    <tr style=\"text-align: right;\">\n",
       "      <th></th>\n",
       "      <th>userid</th>\n",
       "      <th>location</th>\n",
       "    </tr>\n",
       "  </thead>\n",
       "  <tbody>\n",
       "  </tbody>\n",
       "</table>\n",
       "</div>"
      ],
      "text/plain": [
       "Empty DataFrame\n",
       "Columns: [userid, location]\n",
       "Index: []"
      ]
     },
     "execution_count": 44,
     "metadata": {},
     "output_type": "execute_result"
    }
   ],
   "source": [
    "import pandas as pd"
   ]
  },
  {
   "cell_type": "code",
   "execution_count": 63,
   "id": "9d85ebfc-5922-4b88-af2a-063a36ed1f08",
   "metadata": {},
   "outputs": [
    {
     "name": "stdout",
     "output_type": "stream",
     "text": [
      "!!!!!!!!!!!!!!!!!\n",
      "0      (23.71213, 120.56426)\n",
      "1     (23.706341, 120.56542)\n",
      "2    (23.722356, 120.557968)\n",
      "Name: location, dtype: object\n",
      "!!!!!!!!!!!!!!!!!\n"
     ]
    },
    {
     "ename": "IndexError",
     "evalue": "When not in combination mode, arrays must be of same size. If mode is required, use comb=True as argument.",
     "output_type": "error",
     "traceback": [
      "\u001b[0;31m---------------------------------------------------------------------------\u001b[0m",
      "\u001b[0;31mIndexError\u001b[0m                                Traceback (most recent call last)",
      "\u001b[0;32m<ipython-input-63-2a1abe5d83c7>\u001b[0m in \u001b[0;36m<module>\u001b[0;34m\u001b[0m\n\u001b[1;32m      7\u001b[0m \u001b[0mlocation_tuple\u001b[0m \u001b[0;34m=\u001b[0m \u001b[0mlocation\u001b[0m\u001b[0;34m\u001b[0m\u001b[0;34m\u001b[0m\u001b[0m\n\u001b[1;32m      8\u001b[0m \u001b[0mserum_type\u001b[0m \u001b[0;34m=\u001b[0m \u001b[0;34m'雨傘節'\u001b[0m\u001b[0;34m\u001b[0m\u001b[0;34m\u001b[0m\u001b[0m\n\u001b[0;32m----> 9\u001b[0;31m \u001b[0mhosp_location\u001b[0m \u001b[0;34m=\u001b[0m \u001b[0mmyfun\u001b[0m\u001b[0;34m.\u001b[0m\u001b[0mhost_distace\u001b[0m\u001b[0;34m(\u001b[0m\u001b[0mlocation_tuple\u001b[0m\u001b[0;34m,\u001b[0m\u001b[0mserum_type\u001b[0m\u001b[0;34m)\u001b[0m\u001b[0;34m\u001b[0m\u001b[0;34m\u001b[0m\u001b[0m\n\u001b[0m",
      "\u001b[0;32m/work/data/Line_bot/demo/MIT_flask-line-bot-demo/aston/myfun.py\u001b[0m in \u001b[0;36mhost_distace\u001b[0;34m(target, serum_type)\u001b[0m\n\u001b[1;32m     37\u001b[0m         \u001b[0mtarget_list\u001b[0m\u001b[0;34m.\u001b[0m\u001b[0mappend\u001b[0m\u001b[0;34m(\u001b[0m\u001b[0mtarget\u001b[0m\u001b[0;34m)\u001b[0m\u001b[0;34m\u001b[0m\u001b[0;34m\u001b[0m\u001b[0m\n\u001b[1;32m     38\u001b[0m \u001b[0;34m\u001b[0m\u001b[0m\n\u001b[0;32m---> 39\u001b[0;31m     \u001b[0mdistance_list\u001b[0m \u001b[0;34m=\u001b[0m \u001b[0mlist\u001b[0m\u001b[0;34m(\u001b[0m\u001b[0mhaversine_vector\u001b[0m\u001b[0;34m(\u001b[0m\u001b[0mtarget_list\u001b[0m\u001b[0;34m,\u001b[0m \u001b[0mcoordinate_list\u001b[0m\u001b[0;34m,\u001b[0m \u001b[0mUnit\u001b[0m\u001b[0;34m.\u001b[0m\u001b[0mKILOMETERS\u001b[0m\u001b[0;34m)\u001b[0m\u001b[0;34m)\u001b[0m\u001b[0;34m\u001b[0m\u001b[0;34m\u001b[0m\u001b[0m\n\u001b[0m\u001b[1;32m     40\u001b[0m \u001b[0;34m\u001b[0m\u001b[0m\n\u001b[1;32m     41\u001b[0m     \u001b[0mvals\u001b[0m \u001b[0;34m=\u001b[0m \u001b[0mnp\u001b[0m\u001b[0;34m.\u001b[0m\u001b[0marray\u001b[0m\u001b[0;34m(\u001b[0m\u001b[0mdistance_list\u001b[0m\u001b[0;34m)\u001b[0m\u001b[0;34m\u001b[0m\u001b[0;34m\u001b[0m\u001b[0m\n",
      "\u001b[0;32m~/anaconda3/envs/line_bot/lib/python3.8/site-packages/haversine/haversine.py\u001b[0m in \u001b[0;36mhaversine_vector\u001b[0;34m(array1, array2, unit, comb)\u001b[0m\n\u001b[1;32m    105\u001b[0m     \u001b[0;32mif\u001b[0m \u001b[0;32mnot\u001b[0m \u001b[0mcomb\u001b[0m\u001b[0;34m:\u001b[0m\u001b[0;34m\u001b[0m\u001b[0;34m\u001b[0m\u001b[0m\n\u001b[1;32m    106\u001b[0m         \u001b[0;32mif\u001b[0m \u001b[0marray1\u001b[0m\u001b[0;34m.\u001b[0m\u001b[0mshape\u001b[0m \u001b[0;34m!=\u001b[0m \u001b[0marray2\u001b[0m\u001b[0;34m.\u001b[0m\u001b[0mshape\u001b[0m\u001b[0;34m:\u001b[0m\u001b[0;34m\u001b[0m\u001b[0;34m\u001b[0m\u001b[0m\n\u001b[0;32m--> 107\u001b[0;31m             \u001b[0;32mraise\u001b[0m \u001b[0mIndexError\u001b[0m\u001b[0;34m(\u001b[0m\u001b[0;34m\"When not in combination mode, arrays must be of same size. If mode is required, use comb=True as argument.\"\u001b[0m\u001b[0;34m)\u001b[0m\u001b[0;34m\u001b[0m\u001b[0;34m\u001b[0m\u001b[0m\n\u001b[0m\u001b[1;32m    108\u001b[0m \u001b[0;34m\u001b[0m\u001b[0m\n\u001b[1;32m    109\u001b[0m     \u001b[0;31m# unpack latitude/longitude\u001b[0m\u001b[0;34m\u001b[0m\u001b[0;34m\u001b[0m\u001b[0;34m\u001b[0m\u001b[0m\n",
      "\u001b[0;31mIndexError\u001b[0m: When not in combination mode, arrays must be of same size. If mode is required, use comb=True as argument."
     ]
    }
   ],
   "source": [
    "data = pd.read_csv('./user_data/U34944834ac177bbd1252e63189e6897c.csv')\n",
    "\n",
    "location = data.loc[-1:]['location']\n",
    "print(\"!!!!!!!!!!!!!!!!!\")\n",
    "print( location)\n",
    "print(\"!!!!!!!!!!!!!!!!!\")\n",
    "location_tuple = location\n",
    "serum_type = '雨傘節'\n",
    "hosp_location = myfun.host_distace(location_tuple,serum_type)"
   ]
  },
  {
   "cell_type": "code",
   "execution_count": 64,
   "id": "1d4144d4-bd80-486d-ba88-c7fed4af67b1",
   "metadata": {},
   "outputs": [
    {
     "data": {
      "text/plain": [
       "pandas.core.series.Series"
      ]
     },
     "execution_count": 64,
     "metadata": {},
     "output_type": "execute_result"
    }
   ],
   "source": [
    "type(data['location'])"
   ]
  },
  {
   "cell_type": "code",
   "execution_count": 79,
   "id": "0fd8ec91-0f65-4355-a86c-7e36e97389cd",
   "metadata": {},
   "outputs": [],
   "source": [
    "a =eval(data.tail(1).to_dict('list')['location'][0])"
   ]
  },
  {
   "cell_type": "code",
   "execution_count": 81,
   "id": "6dded287-d270-40bf-a457-6c82561a2783",
   "metadata": {},
   "outputs": [
    {
     "data": {
      "text/plain": [
       "tuple"
      ]
     },
     "execution_count": 81,
     "metadata": {},
     "output_type": "execute_result"
    }
   ],
   "source": [
    "type(a)"
   ]
  },
  {
   "cell_type": "code",
   "execution_count": null,
   "id": "e2a757ca-50b5-45a1-8bef-62e72602a79d",
   "metadata": {},
   "outputs": [],
   "source": []
  }
 ],
 "metadata": {
  "kernelspec": {
   "display_name": "Python [conda env:line_bot]",
   "language": "python",
   "name": "conda-env-line_bot-py"
  },
  "language_info": {
   "codemirror_mode": {
    "name": "ipython",
    "version": 3
   },
   "file_extension": ".py",
   "mimetype": "text/x-python",
   "name": "python",
   "nbconvert_exporter": "python",
   "pygments_lexer": "ipython3",
   "version": "3.8.10"
  }
 },
 "nbformat": 4,
 "nbformat_minor": 5
}
