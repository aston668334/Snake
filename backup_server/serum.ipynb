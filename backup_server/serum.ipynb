{
 "cells": [
  {
   "cell_type": "code",
   "execution_count": 206,
   "id": "4b3cd586-37a7-42e5-96de-cd3484552a5c",
   "metadata": {},
   "outputs": [],
   "source": [
    "import pandas as pd\n",
    "from haversine import haversine_vector, Unit ,haversine\n",
    "import numpy as np"
   ]
  },
  {
   "cell_type": "code",
   "execution_count": 34,
   "id": "091de950-5fd2-4e30-978b-7f793a7cf369",
   "metadata": {},
   "outputs": [],
   "source": [
    "data = pd.read_csv('./Serum.csv')"
   ]
  },
  {
   "cell_type": "code",
   "execution_count": 35,
   "id": "2b2d7023-8ff6-449e-bd2b-b884f689c552",
   "metadata": {},
   "outputs": [],
   "source": [
    "data_list = list(data['經緯度'])\n",
    "target = (24.26048456593758, 120.96548237009905)"
   ]
  },
  {
   "cell_type": "code",
   "execution_count": 36,
   "id": "02810ba3-6b25-42f4-805c-33149e7292de",
   "metadata": {},
   "outputs": [],
   "source": [
    "coordinate_list =[]\n",
    "target_list = []\n",
    "for i in data_list:\n",
    "    latitude = float(i.split(',')[0])\n",
    "    longitude = float(i.split(',')[1])\n",
    "    temp = (latitude , longitude)\n",
    "    coordinate_list.append(temp)\n",
    "    target_list.append(target)"
   ]
  },
  {
   "cell_type": "code",
   "execution_count": 46,
   "id": "de61cb8f-79e0-4c05-be4f-b61ed82f36d0",
   "metadata": {},
   "outputs": [],
   "source": [
    "distance_list = list(haversine_vector(target_list, coordinate_list, Unit.KILOMETERS))"
   ]
  },
  {
   "cell_type": "code",
   "execution_count": 47,
   "id": "7a4927ae-cca0-41ea-bd04-6a24ef25b9c9",
   "metadata": {
    "tags": []
   },
   "outputs": [],
   "source": [
    "shortest_distance = min(distance_list)\n",
    "shortest_index = distance_list.index(shortest_distance)"
   ]
  },
  {
   "cell_type": "code",
   "execution_count": 49,
   "id": "f631e06d-f8d1-468d-87c9-c5a9dc6b5c4e",
   "metadata": {},
   "outputs": [
    {
     "data": {
      "text/plain": [
       "12.354641536772235"
      ]
     },
     "execution_count": 49,
     "metadata": {},
     "output_type": "execute_result"
    }
   ],
   "source": [
    "shortest_distance"
   ]
  },
  {
   "cell_type": "code",
   "execution_count": 237,
   "id": "dc8aa595-0788-476b-a9b8-9ead1ae983be",
   "metadata": {},
   "outputs": [
    {
     "data": {
      "text/plain": [
       "{'物資分類': '抗雨傘節及飯匙倩蛇毒血清',\n",
       " '單位名稱': '台中市和平衛生所',\n",
       " '連絡電話': '04-25942781',\n",
       " '區域別': '中區',\n",
       " '縣市': '台中市',\n",
       " '經緯度': '24.17424452796916, 120.8886681150779'}"
      ]
     },
     "execution_count": 237,
     "metadata": {},
     "output_type": "execute_result"
    }
   ],
   "source": [
    "data.loc[shortest_index].to_dict()"
   ]
  },
  {
   "cell_type": "code",
   "execution_count": 51,
   "id": "fef44c63-b9e6-4547-97e9-fa69aa31ab1b",
   "metadata": {},
   "outputs": [
    {
     "data": {
      "text/plain": [
       "物資分類                            抗雨傘節及飯匙倩蛇毒血清\n",
       "單位名稱                                台中市和平衛生所\n",
       "連絡電話                             04-25942781\n",
       "區域別                                       中區\n",
       "縣市                                       台中市\n",
       "經緯度     24.17424452796916, 120.8886681150779\n",
       "Name: 46, dtype: object"
      ]
     },
     "execution_count": 51,
     "metadata": {},
     "output_type": "execute_result"
    }
   ],
   "source": [
    "data.iloc[46]"
   ]
  },
  {
   "cell_type": "code",
   "execution_count": 52,
   "id": "649ddcdc-b804-4e63-b8dc-0ba7c6ed64cb",
   "metadata": {},
   "outputs": [],
   "source": [
    "test = (24.17424452796916, 120.8886681150779)"
   ]
  },
  {
   "cell_type": "code",
   "execution_count": 54,
   "id": "19f632be-72aa-46eb-967e-a2748e25c035",
   "metadata": {},
   "outputs": [
    {
     "data": {
      "text/plain": [
       "12.354641536772235"
      ]
     },
     "execution_count": 54,
     "metadata": {},
     "output_type": "execute_result"
    }
   ],
   "source": [
    "haversine(target, test, unit=Unit.KILOMETERS)"
   ]
  },
  {
   "cell_type": "code",
   "execution_count": 149,
   "id": "cecf6bb3-2ad1-4f98-af42-3bd0ffe6d90f",
   "metadata": {},
   "outputs": [],
   "source": []
  },
  {
   "cell_type": "code",
   "execution_count": 241,
   "id": "d2de8377-8860-4727-847b-b12c6c219c9f",
   "metadata": {},
   "outputs": [],
   "source": [
    "new_data = data[['單位名稱','連絡電話','區域別','縣市','經緯度']]\n",
    "new_data = new_data.drop_duplicates(subset = ['單位名稱'],ignore_index = True)\n",
    "new_data['百步蛇'] = np.nan\n",
    "new_data['雨傘節'] = np.nan\n",
    "new_data['飯匙倩蛇'] = np.nan\n",
    "new_data['龜殼花'] = np.nan\n",
    "new_data['赤尾鮐蛇'] = np.nan\n",
    "new_data['鎖鏈蛇'] = np.nan"
   ]
  },
  {
   "cell_type": "code",
   "execution_count": 242,
   "id": "67e0f7b5-f813-4284-b87f-5f29634ffbdf",
   "metadata": {},
   "outputs": [],
   "source": [
    "for i in range(len(new_data)) :\n",
    "    \n",
    "    temp = new_data.loc[i]\n",
    "    \n",
    "    target = data['單位名稱'] == temp['單位名稱']\n",
    "    \n",
    "    total_serum = ''.join(data.loc[target] ['物資分類'])\n",
    "    \n",
    "    if '百步蛇' in total_serum:\n",
    "        new_data.iloc[i,5] = 1 \n",
    "    else:\n",
    "        new_data.iloc[i,5] = 0 \n",
    "        \n",
    "    if '雨傘節' in total_serum:\n",
    "        new_data.iloc[i,6] = 1 \n",
    "    else:\n",
    "        new_data.iloc[i,6] = 0 \n",
    "    if '飯匙倩蛇' in total_serum:\n",
    "        new_data.iloc[i,7] = 1 \n",
    "    else:\n",
    "        new_data.iloc[i,7] = 0     \n",
    "    if '龜殼花' in total_serum:\n",
    "        new_data.iloc[i,8] = 1 \n",
    "    else:\n",
    "        new_data.iloc[i,8] = 0 \n",
    "    if '赤尾鮐蛇' in total_serum:\n",
    "        new_data.iloc[i,9] = 1 \n",
    "    else:\n",
    "        new_data.iloc[i,9] = 0 \n",
    "    if '鎖鏈蛇' in total_serum:\n",
    "        new_data.iloc[i,10] = 1 \n",
    "    else:\n",
    "        new_data.iloc[i,10] = 0 \n",
    "\n"
   ]
  },
  {
   "cell_type": "code",
   "execution_count": null,
   "id": "4acd665c-88f4-482b-9e9f-470331470f86",
   "metadata": {},
   "outputs": [],
   "source": []
  },
  {
   "cell_type": "code",
   "execution_count": 243,
   "id": "448fe1e4-8146-4bfb-ae7a-1a3d921cb05b",
   "metadata": {},
   "outputs": [
    {
     "data": {
      "text/html": [
       "<div>\n",
       "<style scoped>\n",
       "    .dataframe tbody tr th:only-of-type {\n",
       "        vertical-align: middle;\n",
       "    }\n",
       "\n",
       "    .dataframe tbody tr th {\n",
       "        vertical-align: top;\n",
       "    }\n",
       "\n",
       "    .dataframe thead th {\n",
       "        text-align: right;\n",
       "    }\n",
       "</style>\n",
       "<table border=\"1\" class=\"dataframe\">\n",
       "  <thead>\n",
       "    <tr style=\"text-align: right;\">\n",
       "      <th></th>\n",
       "      <th>單位名稱</th>\n",
       "      <th>連絡電話</th>\n",
       "      <th>區域別</th>\n",
       "      <th>縣市</th>\n",
       "      <th>經緯度</th>\n",
       "      <th>百步蛇</th>\n",
       "      <th>雨傘節</th>\n",
       "      <th>飯匙倩蛇</th>\n",
       "      <th>龜殼花</th>\n",
       "      <th>赤尾鮐蛇</th>\n",
       "      <th>鎖鏈蛇</th>\n",
       "    </tr>\n",
       "  </thead>\n",
       "  <tbody>\n",
       "    <tr>\n",
       "      <th>0</th>\n",
       "      <td>三軍衛材供應處</td>\n",
       "      <td>03-4708794#325086</td>\n",
       "      <td>北區</td>\n",
       "      <td>桃園市</td>\n",
       "      <td>24.879508781799746, 121.23581868625095</td>\n",
       "      <td>1.0</td>\n",
       "      <td>1.0</td>\n",
       "      <td>1.0</td>\n",
       "      <td>1.0</td>\n",
       "      <td>1.0</td>\n",
       "      <td>0.0</td>\n",
       "    </tr>\n",
       "    <tr>\n",
       "      <th>1</th>\n",
       "      <td>三軍總醫院附設民眾診療服務處</td>\n",
       "      <td>02-87927044</td>\n",
       "      <td>台北區</td>\n",
       "      <td>台北市</td>\n",
       "      <td>25.071637412128464, 121.59284078716082</td>\n",
       "      <td>1.0</td>\n",
       "      <td>1.0</td>\n",
       "      <td>1.0</td>\n",
       "      <td>1.0</td>\n",
       "      <td>1.0</td>\n",
       "      <td>0.0</td>\n",
       "    </tr>\n",
       "    <tr>\n",
       "      <th>2</th>\n",
       "      <td>三軍總醫院附設基隆民眾診療服務處</td>\n",
       "      <td>02-24633330#79751</td>\n",
       "      <td>台北區</td>\n",
       "      <td>基隆市</td>\n",
       "      <td>25.14472071755306, 121.76416851139084</td>\n",
       "      <td>1.0</td>\n",
       "      <td>1.0</td>\n",
       "      <td>1.0</td>\n",
       "      <td>1.0</td>\n",
       "      <td>1.0</td>\n",
       "      <td>0.0</td>\n",
       "    </tr>\n",
       "    <tr>\n",
       "      <th>3</th>\n",
       "      <td>三軍總醫院澎湖分院附設民眾診療服務處</td>\n",
       "      <td>06-9212582</td>\n",
       "      <td>高屏區</td>\n",
       "      <td>澎湖縣</td>\n",
       "      <td>23.55483676850333, 119.58342402856367</td>\n",
       "      <td>0.0</td>\n",
       "      <td>1.0</td>\n",
       "      <td>1.0</td>\n",
       "      <td>1.0</td>\n",
       "      <td>1.0</td>\n",
       "      <td>0.0</td>\n",
       "    </tr>\n",
       "    <tr>\n",
       "      <th>4</th>\n",
       "      <td>大千綜合醫院</td>\n",
       "      <td>037-357125#52021</td>\n",
       "      <td>北區</td>\n",
       "      <td>苗栗縣</td>\n",
       "      <td>24.549933555781628, 120.81480156720542</td>\n",
       "      <td>1.0</td>\n",
       "      <td>1.0</td>\n",
       "      <td>1.0</td>\n",
       "      <td>1.0</td>\n",
       "      <td>1.0</td>\n",
       "      <td>0.0</td>\n",
       "    </tr>\n",
       "    <tr>\n",
       "      <th>...</th>\n",
       "      <td>...</td>\n",
       "      <td>...</td>\n",
       "      <td>...</td>\n",
       "      <td>...</td>\n",
       "      <td>...</td>\n",
       "      <td>...</td>\n",
       "      <td>...</td>\n",
       "      <td>...</td>\n",
       "      <td>...</td>\n",
       "      <td>...</td>\n",
       "      <td>...</td>\n",
       "    </tr>\n",
       "    <tr>\n",
       "      <th>198</th>\n",
       "      <td>衛生福利部豐原醫院</td>\n",
       "      <td>04-25271180#1061</td>\n",
       "      <td>中區</td>\n",
       "      <td>台中市</td>\n",
       "      <td>24.242523484353562, 120.72526331137976</td>\n",
       "      <td>0.0</td>\n",
       "      <td>1.0</td>\n",
       "      <td>1.0</td>\n",
       "      <td>1.0</td>\n",
       "      <td>1.0</td>\n",
       "      <td>0.0</td>\n",
       "    </tr>\n",
       "    <tr>\n",
       "      <th>199</th>\n",
       "      <td>衛生福利部雙和醫院(委託臺北醫學大學興建經營)</td>\n",
       "      <td>02-22490088</td>\n",
       "      <td>台北區</td>\n",
       "      <td>新北市</td>\n",
       "      <td>24.992734245237962, 121.49359791508789</td>\n",
       "      <td>1.0</td>\n",
       "      <td>1.0</td>\n",
       "      <td>1.0</td>\n",
       "      <td>1.0</td>\n",
       "      <td>1.0</td>\n",
       "      <td>0.0</td>\n",
       "    </tr>\n",
       "    <tr>\n",
       "      <th>200</th>\n",
       "      <td>戴德森醫療財團法人嘉義基督教醫院</td>\n",
       "      <td>05-2765041#2038</td>\n",
       "      <td>南區</td>\n",
       "      <td>嘉義市</td>\n",
       "      <td>23.499304843111496, 120.45009062143862</td>\n",
       "      <td>1.0</td>\n",
       "      <td>1.0</td>\n",
       "      <td>1.0</td>\n",
       "      <td>1.0</td>\n",
       "      <td>1.0</td>\n",
       "      <td>0.0</td>\n",
       "    </tr>\n",
       "    <tr>\n",
       "      <th>201</th>\n",
       "      <td>聯新國際醫院</td>\n",
       "      <td>03-4941234#2191</td>\n",
       "      <td>北區</td>\n",
       "      <td>桃園市</td>\n",
       "      <td>24.946760278892118, 121.20530059789527</td>\n",
       "      <td>0.0</td>\n",
       "      <td>1.0</td>\n",
       "      <td>1.0</td>\n",
       "      <td>1.0</td>\n",
       "      <td>1.0</td>\n",
       "      <td>0.0</td>\n",
       "    </tr>\n",
       "    <tr>\n",
       "      <th>202</th>\n",
       "      <td>醫療財團法人羅許基金會羅東博愛醫院</td>\n",
       "      <td>03-9543131</td>\n",
       "      <td>台北區</td>\n",
       "      <td>宜蘭縣</td>\n",
       "      <td>24.671781483033243, 121.77287592487815</td>\n",
       "      <td>1.0</td>\n",
       "      <td>0.0</td>\n",
       "      <td>0.0</td>\n",
       "      <td>1.0</td>\n",
       "      <td>1.0</td>\n",
       "      <td>0.0</td>\n",
       "    </tr>\n",
       "  </tbody>\n",
       "</table>\n",
       "<p>203 rows × 11 columns</p>\n",
       "</div>"
      ],
      "text/plain": [
       "                        單位名稱               連絡電話  區域別   縣市  \\\n",
       "0                    三軍衛材供應處  03-4708794#325086   北區  桃園市   \n",
       "1             三軍總醫院附設民眾診療服務處        02-87927044  台北區  台北市   \n",
       "2           三軍總醫院附設基隆民眾診療服務處  02-24633330#79751  台北區  基隆市   \n",
       "3         三軍總醫院澎湖分院附設民眾診療服務處         06-9212582  高屏區  澎湖縣   \n",
       "4                     大千綜合醫院   037-357125#52021   北區  苗栗縣   \n",
       "..                       ...                ...  ...  ...   \n",
       "198                衛生福利部豐原醫院   04-25271180#1061   中區  台中市   \n",
       "199  衛生福利部雙和醫院(委託臺北醫學大學興建經營)        02-22490088  台北區  新北市   \n",
       "200         戴德森醫療財團法人嘉義基督教醫院    05-2765041#2038   南區  嘉義市   \n",
       "201                   聯新國際醫院    03-4941234#2191   北區  桃園市   \n",
       "202        醫療財團法人羅許基金會羅東博愛醫院         03-9543131  台北區  宜蘭縣   \n",
       "\n",
       "                                        經緯度  百步蛇  雨傘節  飯匙倩蛇  龜殼花  赤尾鮐蛇  鎖鏈蛇  \n",
       "0    24.879508781799746, 121.23581868625095  1.0  1.0   1.0  1.0   1.0  0.0  \n",
       "1    25.071637412128464, 121.59284078716082  1.0  1.0   1.0  1.0   1.0  0.0  \n",
       "2     25.14472071755306, 121.76416851139084  1.0  1.0   1.0  1.0   1.0  0.0  \n",
       "3     23.55483676850333, 119.58342402856367  0.0  1.0   1.0  1.0   1.0  0.0  \n",
       "4    24.549933555781628, 120.81480156720542  1.0  1.0   1.0  1.0   1.0  0.0  \n",
       "..                                      ...  ...  ...   ...  ...   ...  ...  \n",
       "198  24.242523484353562, 120.72526331137976  0.0  1.0   1.0  1.0   1.0  0.0  \n",
       "199  24.992734245237962, 121.49359791508789  1.0  1.0   1.0  1.0   1.0  0.0  \n",
       "200  23.499304843111496, 120.45009062143862  1.0  1.0   1.0  1.0   1.0  0.0  \n",
       "201  24.946760278892118, 121.20530059789527  0.0  1.0   1.0  1.0   1.0  0.0  \n",
       "202  24.671781483033243, 121.77287592487815  1.0  0.0   0.0  1.0   1.0  0.0  \n",
       "\n",
       "[203 rows x 11 columns]"
      ]
     },
     "execution_count": 243,
     "metadata": {},
     "output_type": "execute_result"
    }
   ],
   "source": [
    "new_data"
   ]
  },
  {
   "cell_type": "code",
   "execution_count": 244,
   "id": "205f29d3-e8bc-4135-9c38-230ab4314af2",
   "metadata": {},
   "outputs": [],
   "source": [
    "new_data.to_csv('./serum_done.csv' , index = False)"
   ]
  },
  {
   "cell_type": "code",
   "execution_count": null,
   "id": "031e8224-68dd-411b-b8ea-c7b4c50baea6",
   "metadata": {},
   "outputs": [],
   "source": []
  }
 ],
 "metadata": {
  "kernelspec": {
   "display_name": "Python [conda env:line_bot]",
   "language": "python",
   "name": "conda-env-line_bot-py"
  },
  "language_info": {
   "codemirror_mode": {
    "name": "ipython",
    "version": 3
   },
   "file_extension": ".py",
   "mimetype": "text/x-python",
   "name": "python",
   "nbconvert_exporter": "python",
   "pygments_lexer": "ipython3",
   "version": "3.8.10"
  }
 },
 "nbformat": 4,
 "nbformat_minor": 5
}
