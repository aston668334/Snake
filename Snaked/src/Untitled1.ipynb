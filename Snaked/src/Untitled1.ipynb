{
 "cells": [
  {
   "cell_type": "code",
   "execution_count": 6,
   "id": "a7ac10c9-839d-4b72-8001-26a5d4196f57",
   "metadata": {},
   "outputs": [],
   "source": [
    "import os\n",
    "#ml\n",
    "import image_predict\n",
    "\n",
    "from PIL import Image"
   ]
  },
  {
   "cell_type": "code",
   "execution_count": 7,
   "id": "504fe4a1-0d30-403f-894a-61b0f87e2849",
   "metadata": {},
   "outputs": [],
   "source": [
    "os.chdir('/work/data/Line_bot/final/server/')"
   ]
  },
  {
   "cell_type": "code",
   "execution_count": 8,
   "id": "85f70b67-cabc-4000-baac-17b78bce99c9",
   "metadata": {},
   "outputs": [],
   "source": [
    "Path = './test.jpg'\n",
    "# print(Path)\n",
    "img = Image.open(Path).convert(\"RGB\")"
   ]
  },
  {
   "cell_type": "code",
   "execution_count": 9,
   "id": "ae4d7d56-84a0-4170-8269-9c0cbf202d92",
   "metadata": {},
   "outputs": [
    {
     "name": "stdout",
     "output_type": "stream",
     "text": [
      "Training MobileNet V2 model - 2021-07-02 18:26:25\n"
     ]
    },
    {
     "data": {
      "text/plain": [
       "'storeria-dekayi'"
      ]
     },
     "execution_count": 9,
     "metadata": {},
     "output_type": "execute_result"
    }
   ],
   "source": [
    "image_predict.image_predict(img)"
   ]
  },
  {
   "cell_type": "code",
   "execution_count": 23,
   "id": "cc8e6364-5761-441f-baaa-ae51a3c2948f",
   "metadata": {},
   "outputs": [],
   "source": [
    "text = '黑白相間環紋'"
   ]
  },
  {
   "cell_type": "code",
   "execution_count": 21,
   "id": "a9577a82-d468-490a-911d-4eb164051adc",
   "metadata": {},
   "outputs": [
    {
     "name": "stdout",
     "output_type": "stream",
     "text": [
      "/work/data/Line_bot/final/server\n"
     ]
    }
   ],
   "source": [
    "!pwd"
   ]
  },
  {
   "cell_type": "code",
   "execution_count": 22,
   "id": "4bb3ddde-cb42-42a2-b681-5f607189cec1",
   "metadata": {},
   "outputs": [
    {
     "data": {
      "text/plain": [
       "True"
      ]
     },
     "execution_count": 22,
     "metadata": {},
     "output_type": "execute_result"
    }
   ],
   "source": [
    "'灰棕色' in text or '黑白相間環紋' in text"
   ]
  },
  {
   "cell_type": "code",
   "execution_count": 24,
   "id": "2157e480-87ce-462a-9585-42f545670cf0",
   "metadata": {},
   "outputs": [
    {
     "data": {
      "text/plain": [
       "6"
      ]
     },
     "execution_count": 24,
     "metadata": {},
     "output_type": "execute_result"
    }
   ],
   "source": [
    "len(text)"
   ]
  },
  {
   "cell_type": "code",
   "execution_count": 26,
   "id": "a8dd8727-ae64-45dd-9311-3b041b4d99a4",
   "metadata": {},
   "outputs": [
    {
     "data": {
      "text/plain": [
       "2"
      ]
     },
     "execution_count": 26,
     "metadata": {},
     "output_type": "execute_result"
    }
   ],
   "source": [
    "12//5"
   ]
  },
  {
   "cell_type": "code",
   "execution_count": null,
   "id": "42fe796e-6c23-4a6c-9ff9-8e092c5258e8",
   "metadata": {},
   "outputs": [],
   "source": []
  }
 ],
 "metadata": {
  "kernelspec": {
   "display_name": "Python [conda env:line_bot]",
   "language": "python",
   "name": "conda-env-line_bot-py"
  },
  "language_info": {
   "codemirror_mode": {
    "name": "ipython",
    "version": 3
   },
   "file_extension": ".py",
   "mimetype": "text/x-python",
   "name": "python",
   "nbconvert_exporter": "python",
   "pygments_lexer": "ipython3",
   "version": "3.8.10"
  }
 },
 "nbformat": 4,
 "nbformat_minor": 5
}
