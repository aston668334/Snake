{
 "cells": [
  {
   "cell_type": "code",
   "execution_count": 1,
   "id": "ecbcc6d3-b7ec-46c0-a9de-11a27d2d0ff9",
   "metadata": {},
   "outputs": [],
   "source": [
    "\n",
    "\n",
    "import os, time, torch\n",
    "os.chdir('/work/data/Line_bot/demo/Wesley/Snaked/src/')\n",
    "#!/usr/bin/env python\n",
    "# coding: utf-8\n"
   ]
  },
  {
   "cell_type": "code",
   "execution_count": 2,
   "id": "b62efbd3-98c6-4cc9-a3ee-197dd70732ab",
   "metadata": {},
   "outputs": [],
   "source": [
    "\n",
    "\n",
    "from torchvision import models, transforms\n",
    "from torch import nn, optim\n",
    "from Trainer import Trainer\n",
    "from Loss import LDAMLoss\n",
    "from Data.Organiser import Organiser\n",
    "import pdb"
   ]
  },
  {
   "cell_type": "code",
   "execution_count": 3,
   "id": "d70a00f2-dc93-471b-a2c8-7368c867047b",
   "metadata": {},
   "outputs": [
    {
     "name": "stdout",
     "output_type": "stream",
     "text": [
      "/work/data/Line_bot/demo/Wesley/Snaked/src\n"
     ]
    }
   ],
   "source": [
    "!pwd"
   ]
  },
  {
   "cell_type": "code",
   "execution_count": 36,
   "id": "27c43b48-d8b0-4f18-ac7f-18fd67f02494",
   "metadata": {},
   "outputs": [],
   "source": [
    "data = {\n",
    "    \"train\": [\"/home/wesley/Snaked/train\", \"/work/data/Line_bot/demo/Wesley/Snaked/src/train_labels.csv\", 0, 0.95],\n",
    "    \"validation\": [\"/home/wesley/Snaked/train\", \"/work/data/Line_bot/demo/Wesley/Snaked/src/train_labels.csv\", 0.95, 1],\n",
    "   \"test\": [\"/home/wesley/Snaked/train\", \"/work/data/Line_bot/demo/Wesley/Snaked/src/train_labels.csv\", 0.975, 1]\n",
    "}\n",
    "\n",
    "image_transforms = {\n",
    "    \"train\":\n",
    "    transforms.Compose([\n",
    "        transforms.RandomResizedCrop(size=256, scale=(0.8, 1)),\n",
    "        transforms.RandomRotation(90),\n",
    "        transforms.ColorJitter(),\n",
    "        transforms.RandomHorizontalFlip(),\n",
    "        transforms.RandomVerticalFlip(),\n",
    "        transforms.CenterCrop(size=224), #ImgNet standards\n",
    "        transforms.ToTensor(),\n",
    "        transforms.Normalize((0.485, 0.456, 0.406), (0.229, 0.224, 0.225)), # ImgNet standards\n",
    "    ]),\n",
    "    \"validation\":\n",
    "    transforms.Compose([\n",
    "        transforms.Resize(size=256),\n",
    "        transforms.CenterCrop(size=224), #ImgNet standards\n",
    "        transforms.ToTensor(),\n",
    "        transforms.Normalize((0.485, 0.456, 0.406), (0.229, 0.224, 0.225)), # ImgNet standards\n",
    "    ]),\n",
    "    \"test\":\n",
    "    transforms.Compose([\n",
    "        transforms.Resize(size=256),\n",
    "        transforms.CenterCrop(size=224), #ImgNet standards\n",
    "        transforms.ToTensor(),\n",
    "        transforms.Normalize((0.485, 0.456, 0.406), (0.229, 0.224, 0.225)), # ImgNet standards\n",
    "    ])\n",
    "}\n"
   ]
  },
  {
   "cell_type": "code",
   "execution_count": 37,
   "id": "465afa69-5dcb-44e6-bb42-acbeff0707cc",
   "metadata": {},
   "outputs": [],
   "source": [
    "organiser = Organiser(data, image_transforms)"
   ]
  },
  {
   "cell_type": "code",
   "execution_count": 54,
   "id": "5e8f8ee0-0c23-4ad9-800b-c73c4af0f5d6",
   "metadata": {},
   "outputs": [
    {
     "name": "stdout",
     "output_type": "stream",
     "text": [
      "/work/data/Line_bot/demo/Wesley/Snaked/src\n"
     ]
    }
   ],
   "source": [
    "\n",
    "\n",
    "def default_trainer(model, path, batch_size, lr=3e-3, find_lr=False):\n",
    "    data_loaders = organiser.get_loaders(batch_size=batch_size)\n",
    "    criterion = nn.CrossEntropyLoss()\n",
    "    criterion = LDAMLoss(organiser.label_counts)\n",
    "    optimizer = optim.AdamW(model.parameters())\n",
    "    scheduler = optim.lr_scheduler.OneCycleLR(optimizer, lr, epochs=10, steps_per_epoch=len(data_loaders[\"train\"]))\n",
    "    organiser.create_folder(path)\n",
    "    trainer = Trainer(model, criterion, optimizer, scheduler, path, data_loaders)\n",
    "    if find_lr == True:\n",
    "        trainer.find_lr()\n",
    "    return trainer\n",
    "!pwd\n",
    "def predict(imgpath=None):\n",
    "    organiser = Organiser(data, image_transforms)\n",
    "\n",
    "    # MobileNet V2 model\n",
    "    # Note max learning rate of 3e-4 works best for cross entropy loss and 5e-4 for LDAM loss\n",
    "    print(\"Training MobileNet V2 model - \" + str(time.strftime(\"%Y-%m-%d %H:%M:%S\")))\n",
    "    model = models.mobilenet_v2(pretrained=True)\n",
    "    model.classifier[1] = nn.Linear(model.classifier[1].in_features, 85)\n",
    "    # pdb.set_trace()\n",
    "    trainer = default_trainer(model, \"/work/data/Line_bot/demo/Wesley/Snaked/Saved/Model\", 64, 5e-4)\n",
    "    # trainer.train()\n",
    "    # trainer.evaluate()\n",
    "    trainer.predict(img_path='../cobra.jpg')\n",
    "\n"
   ]
  },
  {
   "cell_type": "code",
   "execution_count": 55,
   "id": "3604904c-9b79-4099-b16c-bc2d97c48d5f",
   "metadata": {},
   "outputs": [
    {
     "name": "stdout",
     "output_type": "stream",
     "text": [
      "Training MobileNet V2 model - 2021-07-02 13:00:09\n",
      "crotalus-oreganus\n"
     ]
    }
   ],
   "source": [
    "predict('../cobra.jpg')"
   ]
  },
  {
   "cell_type": "code",
   "execution_count": null,
   "id": "8e711e4b-c194-4716-8727-08aea8344ced",
   "metadata": {},
   "outputs": [],
   "source": []
  },
  {
   "cell_type": "code",
   "execution_count": null,
   "id": "fd215da8-76a8-4a9f-9b36-7858b1adbde1",
   "metadata": {},
   "outputs": [],
   "source": []
  },
  {
   "cell_type": "code",
   "execution_count": null,
   "id": "b1cf3fe7-311a-4777-869a-07a1dd61b994",
   "metadata": {},
   "outputs": [],
   "source": []
  }
 ],
 "metadata": {
  "kernelspec": {
   "display_name": "Python [conda env:line_bot]",
   "language": "python",
   "name": "conda-env-line_bot-py"
  },
  "language_info": {
   "codemirror_mode": {
    "name": "ipython",
    "version": 3
   },
   "file_extension": ".py",
   "mimetype": "text/x-python",
   "name": "python",
   "nbconvert_exporter": "python",
   "pygments_lexer": "ipython3",
   "version": "3.8.10"
  }
 },
 "nbformat": 4,
 "nbformat_minor": 5
}
