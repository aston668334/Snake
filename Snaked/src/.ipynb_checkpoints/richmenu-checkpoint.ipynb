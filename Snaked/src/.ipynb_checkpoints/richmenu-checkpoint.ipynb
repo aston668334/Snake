{
 "cells": [
  {
   "cell_type": "code",
   "execution_count": 89,
   "id": "99089df7-e864-4603-96de-ab57a4be0514",
   "metadata": {},
   "outputs": [],
   "source": [
    "import requests\n",
    "import json\n",
    "\n",
    "from linebot import (\n",
    "    LineBotApi, WebhookHandler\n",
    ")\n",
    "\n",
    "token = 'cKVxnV4EOD1sGF3sns1Kvf2RG9hYEoWbnvHN82WJtop5rsdh/Igz2sKQyj0JY6uv6So6ONhM/saftGIZz3H2e3e3Fht03Nrm2HVVYMsEJRvUdfqympIlO2aQEsluUd6suhcuLp27COwiSEDwbsBfcwdB04t89/1O/w1cDnyilFU='\n",
    "\n",
    "\n",
    "line_bot_api = LineBotApi(token)"
   ]
  },
  {
   "cell_type": "code",
   "execution_count": 90,
   "id": "65d88a25-303a-47a9-ad6d-318694893bcd",
   "metadata": {},
   "outputs": [
    {
     "name": "stdout",
     "output_type": "stream",
     "text": [
      "{\"richMenuId\":\"richmenu-c191e5a90abb3d521a9b68cbc24ee375\"}\n"
     ]
    }
   ],
   "source": [
    "\n",
    "headers = {\"Authorization\":\"Bearer \"+token,\"Content-Type\":\"application/json\"}\n",
    "\n",
    "body =  json.load(open('snake_rich.json','r',encoding='utf-8'))\n",
    "\n",
    "\n",
    "\n",
    "\n",
    "req = requests.request('POST', 'https://api.line.me/v2/bot/richmenu', \n",
    "                       headers=headers,data=json.dumps(body).encode('utf-8'))\n",
    "\n",
    "print(req.text)"
   ]
  },
  {
   "cell_type": "code",
   "execution_count": 91,
   "id": "24399989-dca9-40f2-ab8b-bc44f088c843",
   "metadata": {},
   "outputs": [],
   "source": [
    "richMenuId = json.loads(req.text)['richMenuId']\n",
    "\n",
    "with open(\"./richmenu.jpg\", 'rb') as f:\n",
    "    line_bot_api.set_rich_menu_image(richMenuId, \"image/jpeg\", f)"
   ]
  },
  {
   "cell_type": "code",
   "execution_count": 92,
   "id": "b30443e8-8783-42bf-ad06-7a953b530465",
   "metadata": {},
   "outputs": [
    {
     "name": "stdout",
     "output_type": "stream",
     "text": [
      "{}\n"
     ]
    }
   ],
   "source": [
    "headers = {\"Authorization\":\"Bearer \"+token,\"Content-Type\":\"application/json\"}\n",
    "\n",
    "req = requests.request('POST', 'https://api.line.me/v2/bot/user/all/richmenu/'+richMenuId, \n",
    "                       headers=headers)\n",
    "\n",
    "print(req.text)"
   ]
  },
  {
   "cell_type": "code",
   "execution_count": 93,
   "id": "6743e1a5-63bd-43bb-8b66-03ecfac78535",
   "metadata": {},
   "outputs": [
    {
     "data": {
      "text/plain": [
       "[{\"areas\": [{\"action\": {\"text\": \"\\u91ce\\u5916\\u5b89\\u5168\\u6ce8\\u610f\\u4e8b\\u9805\", \"type\": \"message\"}, \"bounds\": {\"height\": 818, \"width\": 836, \"x\": 0, \"y\": 0}}, {\"action\": {\"type\": \"uri\", \"uri\": \"https://snakesoftaiwan.com/home_zh.html\"}, \"bounds\": {\"height\": 807, \"width\": 824, \"x\": 838, \"y\": 0}}, {\"action\": {\"text\": \"\\u86c7\\u5e38\\u51fa\\u6c92\\u4f4d\\u7f6e\\u53ca\\u6642\\u9593\", \"type\": \"message\"}, \"bounds\": {\"height\": 808, \"width\": 843, \"x\": 1657, \"y\": 0}}, {\"action\": {\"text\": \"\\u88ab\\u86c7\\u54ac\\u5230\\u600e\\u9ebc\\u8fa6\", \"type\": \"message\"}, \"bounds\": {\"height\": 796, \"width\": 833, \"x\": 0, \"y\": 818}}, {\"action\": {\"text\": \"\\u6211\\u9047\\u5230\\u4ec0\\u9ebc\\u7a2e\\u985e\\u7684\\u86c7\", \"type\": \"message\"}, \"bounds\": {\"height\": 808, \"width\": 842, \"x\": 828, \"y\": 806}}, {\"action\": {\"text\": \"\\u54ea\\u88e1\\u6709\\u6297\\u6bd2\\u8840\\u6e05\", \"type\": \"message\"}, \"bounds\": {\"height\": 804, \"width\": 837, \"x\": 1663, \"y\": 810}}], \"chatBarText\": \"RichMenu\", \"name\": \"Rich Menu 1\", \"richMenuId\": \"richmenu-c191e5a90abb3d521a9b68cbc24ee375\", \"selected\": true, \"size\": {\"height\": 1686, \"width\": 2500}}]"
      ]
     },
     "execution_count": 93,
     "metadata": {},
     "output_type": "execute_result"
    }
   ],
   "source": [
    "line_bot_api.get_rich_menu_list()"
   ]
  },
  {
   "cell_type": "code",
   "execution_count": 84,
   "id": "adf184a4-1684-44d3-a3e9-044979217b1e",
   "metadata": {},
   "outputs": [],
   "source": [
    "line_bot_api.delete_rich_menu(richMenuId)"
   ]
  },
  {
   "cell_type": "code",
   "execution_count": null,
   "id": "2b5a1550-b5ff-4ef4-a54d-8ae90cf8bee3",
   "metadata": {},
   "outputs": [],
   "source": []
  }
 ],
 "metadata": {
  "kernelspec": {
   "display_name": "Python [conda env:line_bot]",
   "language": "python",
   "name": "conda-env-line_bot-py"
  },
  "language_info": {
   "codemirror_mode": {
    "name": "ipython",
    "version": 3
   },
   "file_extension": ".py",
   "mimetype": "text/x-python",
   "name": "python",
   "nbconvert_exporter": "python",
   "pygments_lexer": "ipython3",
   "version": "3.8.10"
  }
 },
 "nbformat": 4,
 "nbformat_minor": 5
}
